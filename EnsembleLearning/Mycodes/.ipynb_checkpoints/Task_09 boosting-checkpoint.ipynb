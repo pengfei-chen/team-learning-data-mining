{
 "cells": [
  {
   "cell_type": "markdown",
   "id": "93f71abe",
   "metadata": {},
   "source": [
    "### 导语：\n",
    "Bagging思想的实质是：通过Bootstrap 的方式对全样本数据集进行抽样得到抽样子集，对不同的子集使用同一种基本模型进行拟合，然后投票得出最终的预测。\n",
    "Bagging主要通过降低方差的方式减少预测误差。\n",
    "\n",
    "Boosting方法是使用同一组数据集进行反复学习，得到一系列简单模型，然后组合这些模型构成一个预测性能十分强大的机器学习模型。\n",
    "\n",
    "Boosting思想提高最终的预测效果是**通过不断减少偏差的形式**，与Bagging有着本质的不同。\n",
    "\n",
    "学习了解两类常用的Boosting方式：Adaptive Boosting 和 Gradient Boosting 以及它们的变体Xgboost、LightGBM以及Catboost。"
   ]
  },
  {
   "cell_type": "markdown",
   "id": "636a8ad8",
   "metadata": {},
   "source": [
    "Boosting的提出与发展离不开Valiant和 Kearns的努力，历史上正是Valiant和 Kearns提出了\"强可学习\"和\"弱可学习\"的概念。那什么是\"强可学习\"和\"弱可学习\"呢？在概率近似正确PAC学习的框架下：\n",
    "\n",
    "弱学习：识别错误率小于1/2（即准确率仅比随机猜测略高的学习算法）\n",
    "\n",
    "强学习：识别准确率很高并能在多项式时间内完成的学习算法"
   ]
  },
  {
   "cell_type": "markdown",
   "id": "c36600d0",
   "metadata": {},
   "source": [
    "非常有趣的是，在PAC 学习的框架下，强可学习和弱可学习是等价的，也就是说**一个概念是强可学习的充分必要条件是这个概念是弱可学习的**。这样一来，问题便是：在学习中，如果已经发现了弱可学习算法，能否将他提升至强可学习算法。因为，**弱可学习算法比强可学习算法容易得多。提升方法就是从弱学习算法出发，反复学习，得到一系列弱分类器(又称为基本分类器)，然后通过一定的形式去组合这些弱分类器构成一个强分类器**。大多数的Boosting方法都是通过改变训练数据集的概率分布(训练数据不同样本的权值)，针对不同概率分布的数据调用弱分类算法学习一系列的弱分类器。"
   ]
  },
  {
   "cell_type": "markdown",
   "id": "a42345cd",
   "metadata": {},
   "source": [
    "# 3. Adaboost算法"
   ]
  },
  {
   "cell_type": "markdown",
   "id": "af0256dd",
   "metadata": {},
   "source": [
    "**Adaboost的基本原理**                             \n",
    "\n",
    "对于Adaboost来说，解决上述的两个问题的方式是：1. **提高那些被前一轮分类器错误分类的样本的权重，而降低那些被正确分类的样本的权重(注意：这里是样本）**。这样一来，那些在上一轮分类器中没有得到正确分类的样本，由于其权重的增大而在后一轮的训练中“备受关注”。2. 各个弱分类器的组合是通过采取加权多数表决的方式，具体来说，**加大分类错误率低的弱分类器的权重，因为这些分类器能更好地完成分类任务，而减小分类错误率较大的弱分类器的权重，使其在表决中起较小的作用（注意：这里是弱分类器）**。  \n",
    "\n",
    "现在，我们来具体介绍Adaboost算法：(参考李航老师的《统计学习方法》)                       \n",
    "假设给定一个二分类的训练数据集：$T=\\left\\{\\left(x_{1}, y_{1}\\right),\\left(x_{2}, y_{2}\\right), \\cdots,\\left(x_{N}, y_{N}\\right)\\right\\}$，其中每个样本点由特征与类别组成。特征$x_{i} \\in \\mathcal{X} \\subseteq \\mathbf{R}^{n}$，类别$y_{i} \\in \\mathcal{Y}=\\{-1,+1\\}$，$\\mathcal{X}$是特征空间，$ \\mathcal{Y}$是类别集合，输出最终分类器$G(x)$。Adaboost算法如下：                 \n",
    "(1) 初始化训练数据的分布：$D_{1}=\\left(w_{11}, \\cdots, w_{1 i}, \\cdots, w_{1 N}\\right), \\quad w_{1 i}=\\frac{1}{N}, \\quad i=1,2, \\cdots, N$                       \n",
    "(2) 对于m=1,2,...,M            \n",
    "   - 使用具有权值分布$D_m$的训练数据集进行学习，得到基本分类器：$G_{m}(x): \\mathcal{X} \\rightarrow\\{-1,+1\\}$                  \n",
    "   - 计算$G_m(x)$在训练集上的分类误差率$e_{m}=\\sum_{i=1}^{N} P\\left(G_{m}\\left(x_{i}\\right) \\neq y_{i}\\right)=\\sum_{i=1}^{N} w_{m i} I\\left(G_{m}\\left(x_{i}\\right) \\neq y_{i}\\right)$                   \n",
    "   - 计算$G_m(x)$的系数$\\alpha_{m}=\\frac{1}{2} \\log \\frac{1-e_{m}}{e_{m}}$，这里的log是自然对数ln                         \n",
    "   - 更新训练数据集的权重分布                \n",
    "   $$\n",
    "   \\begin{array}{c}\n",
    "   D_{m+1}=\\left(w_{m+1,1}, \\cdots, w_{m+1, i}, \\cdots, w_{m+1, N}\\right) \\\\\n",
    "   w_{m+1, i}=\\frac{w_{m i}}{Z_{m}} \\exp \\left(-\\alpha_{m} y_{i} G_{m}\\left(x_{i}\\right)\\right), \\quad i=1,2, \\cdots, N\n",
    "   \\end{array}\n",
    "   $$                       \n",
    "   这里的$Z_m$是规范化因子，使得$D_{m+1}$称为概率分布，$Z_{m}=\\sum_{i=1}^{N} w_{m i} \\exp \\left(-\\alpha_{m} y_{i} G_{m}\\left(x_{i}\\right)\\right)$                          \n",
    "\n",
    "(3) 构建基本分类器的线性组合$f(x)=\\sum_{m=1}^{M} \\alpha_{m} G_{m}(x)$，得到最终的分类器                       \n",
    "\n",
    "$$\n",
    "\\begin{aligned}\n",
    "G(x) &=\\operatorname{sign}(f(x)) \\\\\n",
    "&=\\operatorname{sign}\\left(\\sum_{m=1}^{M} \\alpha_{m} G_{m}(x)\\right)\n",
    "\\end{aligned}\n",
    "$$                          \n",
    "\n",
    "下面对Adaboost算法做如下说明：                                            \n",
    "对于步骤(1)，假设训练数据的权值分布是均匀分布，是为了使得第一次没有先验信息的条件下每个样本在基本分类器的学习中作用一样。                         \n",
    "对于步骤(2)，每一次迭代产生的基本分类器$G_m(x)$在加权训练数据集上的分类错误率$\\begin{aligned}e_{m} &=\\sum_{i=1}^{N} P\\left(G_{m}\\left(x_{i}\\right) \\neq y_{i}\\right) =\\sum_{G_{m}\\left(x_{i}\\right) \\neq y_{i}} w_{m i}\\end{aligned}$代表了在$G_m(x)$中分类错误的样本权重和，这点直接说明了权重分布$D_m$与$G_m(x)$的分类错误率$e_m$有直接关系。同时，在步骤(2)中，计算基本分类器$G_m(x)$的系数$\\alpha_m$，$\\alpha_{m}=\\frac{1}{2} \\log \\frac{1-e_{m}}{e_{m}}$，它表示了$G_m(x)$在最终分类器的重要性程度，$\\alpha_m$的取值由基本分类器$G_m(x)$的分类错误率有直接关系，当$e_{m} \\leqslant \\frac{1}{2}$时，$\\alpha_{m} \\geqslant 0$，并且$\\alpha_m$随着$e_m$的减少而增大，因此分类错误率越小的基本分类器在最终分类器的作用越大！                       \n",
    "**最重要的，对于步骤(2)中的样本权重的更新：  **                                    \n",
    "$$\n",
    "w_{m+1, i}=\\left\\{\\begin{array}{ll}\n",
    "\\frac{w_{m i}}{Z_{m}} \\mathrm{e}^{-\\alpha_{m}}, & G_{m}\\left(x_{i}\\right)=y_{i} \\\\\n",
    "\\frac{w_{m i}}{Z_{m}} \\mathrm{e}^{\\alpha_{m}}, & G_{m}\\left(x_{i}\\right) \\neq y_{i}\n",
    "\\end{array}\\right.\n",
    "$$                        \n",
    "因此，从上式可以看到：被基本分类器$G_m(x)$错误分类的样本的权重扩大，被正确分类的样本权重减少，二者相比相差$\\mathrm{e}^{2 \\alpha_{m}}=\\frac{1-e_{m}}{e_{m}}$倍。                             \n",
    "对于步骤(3)，线性组合$f(x)$实现了将M个基本分类器的加权表决，系数$\\alpha_m$标志了基本分类器$G_m(x)$的重要性，值得注意的是：所有的$\\alpha_m$之和不为1。$f(x)$的符号决定了样本x属于哪一类。             "
   ]
  },
  {
   "cell_type": "markdown",
   "id": "f58b019a",
   "metadata": {},
   "source": [
    "###  精彩！"
   ]
  },
  {
   "cell_type": "markdown",
   "id": "6b55a3da",
   "metadata": {},
   "source": [
    "下面，我们使用一组简单的数据来手动计算Adaboost算法的过程：(例子来源：http://www.csie.edu.tw)                                                               \n",
    "\n",
    "训练数据如下表，假设基本分类器的形式是一个分割$x<v$或$x>v$表示，阈值v由该基本分类器在训练数据集上分类错误率$e_m$最低确定。                                                \n",
    "$$\n",
    "\\begin{array}{ccccccccccc}\n",
    "\\hline \\text { 序号 } & 1 & 2 & 3 & 4 & 5 & 6 & 7 & 8 & 9 & 10 \\\\\n",
    "\\hline x & 0 & 1 & 2 & 3 & 4 & 5 & 6 & 7 & 8 & 9 \\\\\n",
    "y & 1 & 1 & 1 & -1 & -1 & -1 & 1 & 1 & 1 & -1 \\\\\n",
    "\\hline\n",
    "\\end{array}\n",
    "$$                                          \n",
    "解：                        \n",
    "初始化样本权值分布\n",
    "$$\n",
    "\\begin{aligned}\n",
    "D_{1} &=\\left(w_{11}, w_{12}, \\cdots, w_{110}\\right) \\\\\n",
    "w_{1 i} &=0.1, \\quad i=1,2, \\cdots, 10\n",
    "\\end{aligned}\n",
    "$$                                  \n",
    "对m=1:                      \n",
    "   - 在权值分布$D_1$的训练数据集上，遍历每个结点并计算分类误差率$e_m$，阈值取v=2.5时分类误差率最低，那么基本分类器为：\n",
    "   $$\n",
    "   G_{1}(x)=\\left\\{\\begin{array}{ll}\n",
    "   1, & x<2.5 \\\\\n",
    "   -1, & x>2.5\n",
    "   \\end{array}\\right.\n",
    "   $$                         \n",
    "   - $G_1(x)$在训练数据集上的误差率为$e_{1}=P\\left(G_{1}\\left(x_{i}\\right) \\neq y_{i}\\right)=0.3$。                                           \n",
    "   - 计算$G_1(x)$的系数：$\\alpha_{1}=\\frac{1}{2} \\log \\frac{1-e_{1}}{e_{1}}=0.4236$               \n",
    "   - 更新训练数据的权值分布：                  \n",
    "   $$\n",
    "   \\begin{aligned}\n",
    "   D_{2}=&\\left(w_{21}, \\cdots, w_{2 i}, \\cdots, w_{210}\\right) \\\\\n",
    "   w_{2 i}=& \\frac{w_{1 i}}{Z_{1}} \\exp \\left(-\\alpha_{1} y_{i} G_{1}\\left(x_{i}\\right)\\right), \\quad i=1,2, \\cdots, 10 \\\\\n",
    "   D_{2}=&(0.07143,0.07143,0.07143,0.07143,0.07143,0.07143,\\\\\n",
    "   &0.16667,0.16667,0.16667,0.07143) \\\\\n",
    "   f_{1}(x) &=0.4236 G_{1}(x)\n",
    "   \\end{aligned}\n",
    "   $$\n",
    "\n",
    "**注：上面的 y i是什么？ -1 / 1**\n",
    "\n",
    "对于m=2：                   \n",
    "   - 在权值分布$D_2$的训练数据集上，遍历每个结点并计算分类误差率$e_m$，阈值取v=8.5时分类误差率最低，那么基本分类器为：                  \n",
    "   $$\n",
    "   G_{2}(x)=\\left\\{\\begin{array}{ll}\n",
    "   1, & x<8.5 \\\\\n",
    "   -1, & x>8.5\n",
    "   \\end{array}\\right.\n",
    "   $$                       \n",
    "   - $G_2(x)$在训练数据集上的误差率为$e_2 = 0.2143$                    \n",
    "   - 计算$G_2(x)$的系数：$\\alpha_2 = 0.6496$                        \n",
    "   - 更新训练数据的权值分布：                  \n",
    "   $$\n",
    "   \\begin{aligned}\n",
    "   D_{3}=&(0.0455,0.0455,0.0455,0.1667,0.1667,0.1667\\\\\n",
    "   &0.1060,0.1060,0.1060,0.0455) \\\\\n",
    "   f_{2}(x) &=0.4236 G_{1}(x)+0.6496 G_{2}(x)\n",
    "   \\end{aligned}\n",
    "   $$                   \n",
    "   \n",
    "对m=3：                          \n",
    "   - 在权值分布$D_3$的训练数据集上，遍历每个结点并计算分类误差率$e_m$，阈值取v=5.5时分类误差率最低，那么基本分类器为：                     \n",
    "   $$\n",
    "   G_{3}(x)=\\left\\{\\begin{array}{ll}\n",
    "   1, & x>5.5 \\\\\n",
    "   -1, & x<5.5\n",
    "   \\end{array}\\right.\n",
    "   $$                               \n",
    "   - $G_3(x)$在训练数据集上的误差率为$e_3 = 0.1820$                       \n",
    "   - 计算$G_3(x)$的系数：$\\alpha_3 = 0.7514$                                 \n",
    "   - 更新训练数据的权值分布：                    \n",
    "   $$\n",
    "   D_{4}=(0.125,0.125,0.125,0.102,0.102,0.102,0.065,0.065,0.065,0.125)\n",
    "   $$                       \n",
    "   \n",
    "于是得到：$f_{3}(x)=0.4236 G_{1}(x)+0.6496 G_{2}(x)+0.7514 G_{3}(x)$，分类器$\\operatorname{sign}\\left[f_{3}(x)\\right]$在训练数据集上的误分类点的个数为0。                                \n",
    "于是得到最终分类器为：$G(x)=\\operatorname{sign}\\left[f_{3}(x)\\right]=\\operatorname{sign}\\left[0.4236 G_{1}(x)+0.6496 G_{2}(x)+0.7514 G_{3}(x)\\right]$"
   ]
  },
  {
   "attachments": {
    "image.png": {
     "image/png": "[encoded data removed]"
    }
   },
   "cell_type": "markdown",
   "id": "3246ba21",
   "metadata": {},
   "source": [
    "### 这例子超级棒！\n",
    "\n",
    "![image.png](attachment:image.png)\n",
    "𝑦𝑖𝐺1(𝑥𝑖) 就是看 实际结果 𝑦𝑖 和  预测结果 𝐺1(𝑥𝑖) 是否相同。相同则返回 1 ，不同则返回 -1"
   ]
  },
  {
   "cell_type": "markdown",
   "id": "348fc056",
   "metadata": {},
   "source": [
    "**下面，我们使用sklearn对Adaboost算法进行建模：**"
   ]
  },
  {
   "cell_type": "markdown",
   "id": "be95a0be",
   "metadata": {},
   "source": [
    "本次案例我们使用一份UCI的机器学习库里的开源数据集：葡萄酒数据集，该数据集可以在 ( https://archive.ics.uci.edu/ml/machine-learning-databases/wine/wine.data )上获得。该数据集包含了178个样本和13个特征，从不同的角度对不同的化学特性进行描述，我们的任务是根据这些数据预测红酒属于哪一个类别。(案例来源《python机器学习(第二版》)"
   ]
  },
  {
   "cell_type": "code",
   "execution_count": 1,
   "id": "6d20da25",
   "metadata": {},
   "outputs": [],
   "source": [
    "# 引入数据科学相关工具包：\n",
    "import numpy as np\n",
    "import pandas as pd \n",
    "import matplotlib.pyplot as plt\n",
    "plt.style.use(\"ggplot\")\n",
    "%matplotlib inline\n",
    "import seaborn as sns"
   ]
  },
  {
   "cell_type": "code",
   "execution_count": 2,
   "id": "7b78a9d9",
   "metadata": {},
   "outputs": [],
   "source": [
    "# 加载训练数据：         \n",
    "wine = pd.read_csv(\"https://archive.ics.uci.edu/ml/machine-learning-databases/wine/wine.data\",header=None)\n",
    "wine.columns = ['Class label', 'Alcohol', 'Malic acid', 'Ash', 'Alcalinity of ash','Magnesium', 'Total phenols','Flavanoids', 'Nonflavanoid phenols', \n",
    "                'Proanthocyanins','Color intensity', 'Hue','OD280/OD315 of diluted wines','Proline']"
   ]
  },
  {
   "cell_type": "code",
   "execution_count": 3,
   "id": "877c4653",
   "metadata": {},
   "outputs": [
    {
     "name": "stdout",
     "output_type": "stream",
     "text": [
      "Class labels [1 2 3]\n"
     ]
    },
    {
     "data": {
      "text/html": [
       "<div>\n",
       "<style scoped>\n",
       "    .dataframe tbody tr th:only-of-type {\n",
       "        vertical-align: middle;\n",
       "    }\n",
       "\n",
       "    .dataframe tbody tr th {\n",
       "        vertical-align: top;\n",
       "    }\n",
       "\n",
       "    .dataframe thead th {\n",
       "        text-align: right;\n",
       "    }\n",
       "</style>\n",
       "<table border=\"1\" class=\"dataframe\">\n",
       "  <thead>\n",
       "    <tr style=\"text-align: right;\">\n",
       "      <th></th>\n",
       "      <th>Class label</th>\n",
       "      <th>Alcohol</th>\n",
       "      <th>Malic acid</th>\n",
       "      <th>Ash</th>\n",
       "      <th>Alcalinity of ash</th>\n",
       "      <th>Magnesium</th>\n",
       "      <th>Total phenols</th>\n",
       "      <th>Flavanoids</th>\n",
       "      <th>Nonflavanoid phenols</th>\n",
       "      <th>Proanthocyanins</th>\n",
       "      <th>Color intensity</th>\n",
       "      <th>Hue</th>\n",
       "      <th>OD280/OD315 of diluted wines</th>\n",
       "      <th>Proline</th>\n",
       "    </tr>\n",
       "  </thead>\n",
       "  <tbody>\n",
       "    <tr>\n",
       "      <th>0</th>\n",
       "      <td>1</td>\n",
       "      <td>14.23</td>\n",
       "      <td>1.71</td>\n",
       "      <td>2.43</td>\n",
       "      <td>15.6</td>\n",
       "      <td>127</td>\n",
       "      <td>2.80</td>\n",
       "      <td>3.06</td>\n",
       "      <td>0.28</td>\n",
       "      <td>2.29</td>\n",
       "      <td>5.64</td>\n",
       "      <td>1.04</td>\n",
       "      <td>3.92</td>\n",
       "      <td>1065</td>\n",
       "    </tr>\n",
       "    <tr>\n",
       "      <th>1</th>\n",
       "      <td>1</td>\n",
       "      <td>13.20</td>\n",
       "      <td>1.78</td>\n",
       "      <td>2.14</td>\n",
       "      <td>11.2</td>\n",
       "      <td>100</td>\n",
       "      <td>2.65</td>\n",
       "      <td>2.76</td>\n",
       "      <td>0.26</td>\n",
       "      <td>1.28</td>\n",
       "      <td>4.38</td>\n",
       "      <td>1.05</td>\n",
       "      <td>3.40</td>\n",
       "      <td>1050</td>\n",
       "    </tr>\n",
       "    <tr>\n",
       "      <th>2</th>\n",
       "      <td>1</td>\n",
       "      <td>13.16</td>\n",
       "      <td>2.36</td>\n",
       "      <td>2.67</td>\n",
       "      <td>18.6</td>\n",
       "      <td>101</td>\n",
       "      <td>2.80</td>\n",
       "      <td>3.24</td>\n",
       "      <td>0.30</td>\n",
       "      <td>2.81</td>\n",
       "      <td>5.68</td>\n",
       "      <td>1.03</td>\n",
       "      <td>3.17</td>\n",
       "      <td>1185</td>\n",
       "    </tr>\n",
       "    <tr>\n",
       "      <th>3</th>\n",
       "      <td>1</td>\n",
       "      <td>14.37</td>\n",
       "      <td>1.95</td>\n",
       "      <td>2.50</td>\n",
       "      <td>16.8</td>\n",
       "      <td>113</td>\n",
       "      <td>3.85</td>\n",
       "      <td>3.49</td>\n",
       "      <td>0.24</td>\n",
       "      <td>2.18</td>\n",
       "      <td>7.80</td>\n",
       "      <td>0.86</td>\n",
       "      <td>3.45</td>\n",
       "      <td>1480</td>\n",
       "    </tr>\n",
       "    <tr>\n",
       "      <th>4</th>\n",
       "      <td>1</td>\n",
       "      <td>13.24</td>\n",
       "      <td>2.59</td>\n",
       "      <td>2.87</td>\n",
       "      <td>21.0</td>\n",
       "      <td>118</td>\n",
       "      <td>2.80</td>\n",
       "      <td>2.69</td>\n",
       "      <td>0.39</td>\n",
       "      <td>1.82</td>\n",
       "      <td>4.32</td>\n",
       "      <td>1.04</td>\n",
       "      <td>2.93</td>\n",
       "      <td>735</td>\n",
       "    </tr>\n",
       "  </tbody>\n",
       "</table>\n",
       "</div>"
      ],
      "text/plain": [
       "   Class label  Alcohol  Malic acid   Ash  Alcalinity of ash  Magnesium  \\\n",
       "0            1    14.23        1.71  2.43               15.6        127   \n",
       "1            1    13.20        1.78  2.14               11.2        100   \n",
       "2            1    13.16        2.36  2.67               18.6        101   \n",
       "3            1    14.37        1.95  2.50               16.8        113   \n",
       "4            1    13.24        2.59  2.87               21.0        118   \n",
       "\n",
       "   Total phenols  Flavanoids  Nonflavanoid phenols  Proanthocyanins  \\\n",
       "0           2.80        3.06                  0.28             2.29   \n",
       "1           2.65        2.76                  0.26             1.28   \n",
       "2           2.80        3.24                  0.30             2.81   \n",
       "3           3.85        3.49                  0.24             2.18   \n",
       "4           2.80        2.69                  0.39             1.82   \n",
       "\n",
       "   Color intensity   Hue  OD280/OD315 of diluted wines  Proline  \n",
       "0             5.64  1.04                          3.92     1065  \n",
       "1             4.38  1.05                          3.40     1050  \n",
       "2             5.68  1.03                          3.17     1185  \n",
       "3             7.80  0.86                          3.45     1480  \n",
       "4             4.32  1.04                          2.93      735  "
      ]
     },
     "execution_count": 3,
     "metadata": {},
     "output_type": "execute_result"
    }
   ],
   "source": [
    "# 数据查看：\n",
    "print(\"Class labels\",np.unique(wine[\"Class label\"]))   # 酒分3类\n",
    "wine.head()"
   ]
  },
  {
   "cell_type": "markdown",
   "id": "2138968e",
   "metadata": {},
   "source": [
    "下面对数据做简单解读：                    \n",
    "   - Class label：分类标签         \n",
    "   - Alcohol：酒精                   \n",
    "   - Malic acid：苹果酸                      \n",
    "   - Ash：灰                  \n",
    "   - Alcalinity of ash：灰的碱度                  \n",
    "   - Magnesium：镁                     \n",
    "   - Total phenols：总酚                      \n",
    "   - Flavanoids：黄酮类化合物                      \n",
    "   - Nonflavanoid phenols：非黄烷类酚类                      \n",
    "   - Proanthocyanins：原花青素                     \n",
    "   - Color intensity：色彩强度                 \n",
    "   - Hue：色调                       \n",
    "   - OD280/OD315 of diluted wines：稀释酒OD280 OD350                      \n",
    "   - Proline：脯氨酸                 "
   ]
  },
  {
   "cell_type": "markdown",
   "id": "e0bfcc2f",
   "metadata": {},
   "source": [
    "#####  学习到了，酒里面这么多营养物质！"
   ]
  },
  {
   "cell_type": "code",
   "execution_count": 7,
   "id": "3f9e9c8b",
   "metadata": {},
   "outputs": [],
   "source": [
    "# 数据预处理\n",
    "# 仅仅考虑2，3类葡萄酒，去除1类\n",
    "wine = wine[wine['Class label'] != 1]\n",
    "y = wine['Class label'].values\n",
    "X = wine[['Alcohol','OD280/OD315 of diluted wines']].values\n",
    "\n",
    "# 将分类标签变成二进制编码：\n",
    "from sklearn.preprocessing import LabelEncoder\n",
    "le = LabelEncoder()\n",
    "y = le.fit_transform(y)\n",
    "\n",
    "# 按8：2分割训练集和测试集\n",
    "from sklearn.model_selection import train_test_split\n",
    "\"\"\"\n",
    "这个参数设计很重要！\n",
    "\"\"\"\n",
    "X_train,X_test,y_train,y_test = train_test_split(X,y,test_size=0.2,random_state=1,stratify=y)  # stratify参数代表了按照y的类别等比例抽样\n"
   ]
  },
  {
   "cell_type": "code",
   "execution_count": 8,
   "id": "71e0c752",
   "metadata": {},
   "outputs": [
    {
     "name": "stdout",
     "output_type": "stream",
     "text": [
      "Decision tree train/test accuracies 0.916/0.875\n"
     ]
    }
   ],
   "source": [
    "# 使用单一决策树建模\n",
    "from sklearn.tree import DecisionTreeClassifier\n",
    "tree = DecisionTreeClassifier(criterion='entropy',random_state=1,max_depth=1)\n",
    "\n",
    "from sklearn.metrics import accuracy_score\n",
    "\n",
    "tree = tree.fit(X_train,y_train)\n",
    "y_train_pred = tree.predict(X_train)\n",
    "y_test_pred = tree.predict(X_test)\n",
    "tree_train = accuracy_score(y_train,y_train_pred)\n",
    "tree_test = accuracy_score(y_test,y_test_pred)\n",
    "print('Decision tree train/test accuracies %.3f/%.3f' % (tree_train,tree_test))"
   ]
  },
  {
   "cell_type": "code",
   "execution_count": 9,
   "id": "796ea6fa",
   "metadata": {},
   "outputs": [
    {
     "name": "stdout",
     "output_type": "stream",
     "text": [
      "Adaboost train/test accuracies 1.000/0.917\n"
     ]
    }
   ],
   "source": [
    "# 使用sklearn实现Adaboost(基分类器为决策树)\n",
    "'''\n",
    "AdaBoostClassifier相关参数：\n",
    "base_estimator：基本分类器，默认为DecisionTreeClassifier(max_depth=1)\n",
    "n_estimators：终止迭代的次数\n",
    "learning_rate：学习率\n",
    "algorithm：训练的相关算法，{'SAMME'，'SAMME.R'}，默认='SAMME.R'\n",
    "random_state：随机种子\n",
    "'''\n",
    "from sklearn.ensemble import AdaBoostClassifier\n",
    "ada = AdaBoostClassifier(base_estimator=tree,n_estimators=500,learning_rate=0.1,random_state=1)\n",
    "ada = ada.fit(X_train,y_train)\n",
    "y_train_pred = ada.predict(X_train)\n",
    "y_test_pred = ada.predict(X_test)\n",
    "ada_train = accuracy_score(y_train,y_train_pred)\n",
    "ada_test = accuracy_score(y_test,y_test_pred)\n",
    "print('Adaboost train/test accuracies %.3f/%.3f' % (ada_train,ada_test))"
   ]
  },
  {
   "cell_type": "code",
   "execution_count": 10,
   "id": "1ab18092",
   "metadata": {},
   "outputs": [],
   "source": [
    "AdaBoostClassifier??"
   ]
  },
  {
   "cell_type": "code",
   "execution_count": 11,
   "id": "a7c7f57c",
   "metadata": {},
   "outputs": [
    {
     "name": "stdout",
     "output_type": "stream",
     "text": [
      "Adaboost train/test accuracies 1.000/0.917\n"
     ]
    }
   ],
   "source": [
    "ada = AdaBoostClassifier(n_estimators=500,learning_rate=0.1,random_state=1)  # 所以这里 base_estimator=tree 不这么设置也是一样的\n",
    "ada = ada.fit(X_train,y_train)\n",
    "y_train_pred = ada.predict(X_train)\n",
    "y_test_pred = ada.predict(X_test)\n",
    "ada_train = accuracy_score(y_train,y_train_pred)\n",
    "ada_test = accuracy_score(y_test,y_test_pred)\n",
    "print('Adaboost train/test accuracies %.3f/%.3f' % (ada_train,ada_test))"
   ]
  },
  {
   "cell_type": "markdown",
   "id": "2f31d018",
   "metadata": {},
   "source": [
    "结果分析：单层决策树似乎对训练数据欠拟合，而Adaboost模型正确地预测了训练数据的所有分类标签，而且与单层决策树相比，Adaboost的测试性能也略有提高。然而，为什么模型在训练集和测试集的性能相差这么大呢？我们使用图像来简单说明下这个道理！\n",
    "\n",
    "\n",
    "**过拟合了吧。**"
   ]
  },
  {
   "cell_type": "code",
   "execution_count": 12,
   "id": "964693da",
   "metadata": {},
   "outputs": [
    {
     "data": {
      "text/plain": [
       "array([[10.03, 10.13, 10.23, ..., 15.13, 15.23, 15.33],\n",
       "       [10.03, 10.13, 10.23, ..., 15.13, 15.23, 15.33],\n",
       "       [10.03, 10.13, 10.23, ..., 15.13, 15.23, 15.33],\n",
       "       ...,\n",
       "       [10.03, 10.13, 10.23, ..., 15.13, 15.23, 15.33],\n",
       "       [10.03, 10.13, 10.23, ..., 15.13, 15.23, 15.33],\n",
       "       [10.03, 10.13, 10.23, ..., 15.13, 15.23, 15.33]])"
      ]
     },
     "execution_count": 12,
     "metadata": {},
     "output_type": "execute_result"
    }
   ],
   "source": [
    "# 画出单层决策树与Adaboost的决策边界：\n",
    "x_min = X_train[:, 0].min() - 1\n",
    "x_max = X_train[:, 0].max() + 1\n",
    "y_min = X_train[:, 1].min() - 1\n",
    "y_max = X_train[:, 1].max() + 1\n",
    "xx, yy = np.meshgrid(np.arange(x_min, x_max, 0.1),np.arange(y_min, y_max, 0.1))\n",
    "\n",
    "xx"
   ]
  },
  {
   "cell_type": "markdown",
   "id": "7536765a",
   "metadata": {},
   "source": [
    "np.meshgrid用法，参考如下链接\n",
    "\n",
    "对numpy.meshgrid()最简洁且清晰的解释就是：把两个数组的笛卡尔积内的元素的第一二个坐标分别放入两个矩阵中。\n",
    "\n",
    "https://blog.csdn.net/lllxxq141592654/article/details/81532855"
   ]
  },
  {
   "cell_type": "code",
   "execution_count": 14,
   "id": "d7d63201",
   "metadata": {},
   "outputs": [],
   "source": [
    "plt.subplots??"
   ]
  },
  {
   "cell_type": "markdown",
   "id": "beab77d0",
   "metadata": {},
   "source": [
    "numpy中的ravel()、flatten()、squeeze()的用法与区别\n",
    "\n",
    "https://blog.csdn.net/weixin_38632246/article/details/99121202"
   ]
  },
  {
   "cell_type": "code",
   "execution_count": 15,
   "id": "cc3993e4",
   "metadata": {},
   "outputs": [
    {
     "data": {
      "image/png": "[encoded data removed]",
      "text/plain": [
       "<Figure size 864x432 with 2 Axes>"
      ]
     },
     "metadata": {
      "needs_background": "light"
     },
     "output_type": "display_data"
    }
   ],
   "source": [
    "f, axarr = plt.subplots(nrows=1, ncols=2,sharex='col',sharey='row',figsize=(12, 6))\n",
    "# 一行，两列，\n",
    "\"\"\"\n",
    "- 'row': each subplot row will share an x- or y-axis.\n",
    "- 'col': each subplot column will share an x- or y-axis.\n",
    "\"\"\"\n",
    "for idx, clf, tt in zip([0, 1],[tree, ada],['Decision tree', 'Adaboost']):\n",
    "    clf.fit(X_train, y_train)\n",
    "    Z = clf.predict(np.c_[xx.ravel(), yy.ravel()])  # 转数据为 一维 array\n",
    "    Z = Z.reshape(xx.shape)\n",
    "    axarr[idx].contourf(xx, yy, Z, alpha=0.3)\n",
    "    axarr[idx].scatter(X_train[y_train==0, 0],X_train[y_train==0, 1],c='blue', marker='^')\n",
    "    axarr[idx].scatter(X_train[y_train==1, 0],X_train[y_train==1, 1],c='red', marker='o')\n",
    "    axarr[idx].set_title(tt)\n",
    "\"\"\"\n",
    "这里画图还是薄弱！\n",
    "\"\"\"    \n",
    "\n",
    "axarr[0].set_ylabel('Alcohol', fontsize=12)\n",
    "plt.tight_layout()\n",
    "plt.text(0, -0.2,s='OD280/OD315 of diluted wines',ha='center',va='center',fontsize=12,transform=axarr[1].transAxes)\n",
    "plt.show()"
   ]
  },
  {
   "cell_type": "markdown",
   "id": "9827995a",
   "metadata": {},
   "source": [
    "从上面的决策边界图可以看到：Adaboost模型的决策边界比单层决策树的决策边界要复杂的多。也就是说，Adaboost试图用增加模型复杂度而降低偏差的方式去减少总误差，**但是过程中引入了方差，可能出现过拟合**，\n",
    "\n",
    "因此在训练集和测试集之间的性能存在较大的差距，这就简单地回答的刚刚问题。值的注意的是：与单个分类器相比，Adaboost等Boosting模型增加了计算的复杂度，在实践中需要仔细思考是否愿意为预测性能的相对改善而增加计算成本，**而且Boosting方式无法做到现在流行的并行计算的方式进行训练，因为每一步迭代都要基于上一部的基本分类器。**"
   ]
  },
  {
   "cell_type": "code",
   "execution_count": null,
   "id": "e80569de",
   "metadata": {},
   "outputs": [],
   "source": []
  }
 ],
 "metadata": {
  "kernelspec": {
   "display_name": "Python [conda env:root] *",
   "language": "python",
   "name": "conda-root-py"
  },
  "language_info": {
   "codemirror_mode": {
    "name": "ipython",
    "version": 3
   },
   "file_extension": ".py",
   "mimetype": "text/x-python",
   "name": "python",
   "nbconvert_exporter": "python",
   "pygments_lexer": "ipython3",
   "version": "3.8.8"
  }
 },
 "nbformat": 4,
 "nbformat_minor": 5
}
